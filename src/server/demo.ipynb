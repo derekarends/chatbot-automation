{
 "cells": [
  {
   "cell_type": "code",
   "execution_count": 1,
   "metadata": {},
   "outputs": [
    {
     "ename": "ModuleNotFoundError",
     "evalue": "No module named 'doc_tool'",
     "output_type": "error",
     "traceback": [
      "\u001b[0;31m---------------------------------------------------------------------------\u001b[0m",
      "\u001b[0;31mModuleNotFoundError\u001b[0m                       Traceback (most recent call last)",
      "\u001b[1;32m/Users/derek/Workspace/ai/chatbot-automation/src/server/demo.ipynb Cell 1\u001b[0m line \u001b[0;36m5\n\u001b[1;32m      <a href='vscode-notebook-cell:/Users/derek/Workspace/ai/chatbot-automation/src/server/demo.ipynb#W0sZmlsZQ%3D%3D?line=1'>2</a>\u001b[0m \u001b[39mfrom\u001b[39;00m \u001b[39mlangchain\u001b[39;00m\u001b[39m.\u001b[39;00m\u001b[39magents\u001b[39;00m \u001b[39mimport\u001b[39;00m initialize_agent\n\u001b[1;32m      <a href='vscode-notebook-cell:/Users/derek/Workspace/ai/chatbot-automation/src/server/demo.ipynb#W0sZmlsZQ%3D%3D?line=2'>3</a>\u001b[0m \u001b[39mfrom\u001b[39;00m \u001b[39mlangchain\u001b[39;00m\u001b[39m.\u001b[39;00m\u001b[39mllms\u001b[39;00m \u001b[39mimport\u001b[39;00m OpenAI\n\u001b[0;32m----> <a href='vscode-notebook-cell:/Users/derek/Workspace/ai/chatbot-automation/src/server/demo.ipynb#W0sZmlsZQ%3D%3D?line=4'>5</a>\u001b[0m \u001b[39mfrom\u001b[39;00m \u001b[39mtools\u001b[39;00m\u001b[39m.\u001b[39;00m\u001b[39mdocs\u001b[39;00m\u001b[39m.\u001b[39;00m\u001b[39mdoc_toolkit\u001b[39;00m \u001b[39mimport\u001b[39;00m DocToolKit\n\u001b[1;32m      <a href='vscode-notebook-cell:/Users/derek/Workspace/ai/chatbot-automation/src/server/demo.ipynb#W0sZmlsZQ%3D%3D?line=5'>6</a>\u001b[0m \u001b[39mfrom\u001b[39;00m \u001b[39mtools\u001b[39;00m\u001b[39m.\u001b[39;00m\u001b[39mdocs\u001b[39;00m\u001b[39m.\u001b[39;00m\u001b[39mdoc_api\u001b[39;00m \u001b[39mimport\u001b[39;00m DocApiWrapper\n\u001b[1;32m      <a href='vscode-notebook-cell:/Users/derek/Workspace/ai/chatbot-automation/src/server/demo.ipynb#W0sZmlsZQ%3D%3D?line=7'>8</a>\u001b[0m \u001b[39mfrom\u001b[39;00m \u001b[39mtools\u001b[39;00m\u001b[39m.\u001b[39;00m\u001b[39memail\u001b[39;00m\u001b[39m.\u001b[39;00m\u001b[39memail_toolkit\u001b[39;00m \u001b[39mimport\u001b[39;00m EmailToolKit\n",
      "File \u001b[0;32m~/Workspace/ai/chatbot-automation/src/server/tools/docs/doc_toolkit.py:5\u001b[0m\n\u001b[1;32m      3\u001b[0m \u001b[39mfrom\u001b[39;00m \u001b[39mlangchain\u001b[39;00m\u001b[39m.\u001b[39;00m\u001b[39magents\u001b[39;00m\u001b[39m.\u001b[39;00m\u001b[39magent_toolkits\u001b[39;00m\u001b[39m.\u001b[39;00m\u001b[39mbase\u001b[39;00m \u001b[39mimport\u001b[39;00m BaseToolkit\n\u001b[1;32m      4\u001b[0m \u001b[39mfrom\u001b[39;00m \u001b[39mlangchain\u001b[39;00m\u001b[39m.\u001b[39;00m\u001b[39mtools\u001b[39;00m \u001b[39mimport\u001b[39;00m BaseTool\n\u001b[0;32m----> 5\u001b[0m \u001b[39mfrom\u001b[39;00m \u001b[39mdoc_tool\u001b[39;00m \u001b[39mimport\u001b[39;00m DocTool\n\u001b[1;32m      6\u001b[0m \u001b[39mfrom\u001b[39;00m \u001b[39mdoc_api\u001b[39;00m \u001b[39mimport\u001b[39;00m DocApiWrapper\n\u001b[1;32m      9\u001b[0m \u001b[39mclass\u001b[39;00m \u001b[39mDocToolKit\u001b[39;00m(BaseToolkit):\n",
      "\u001b[0;31mModuleNotFoundError\u001b[0m: No module named 'doc_tool'"
     ]
    }
   ],
   "source": [
    "from langchain.agents import AgentType\n",
    "from langchain.agents import initialize_agent\n",
    "from langchain.llms import OpenAI\n",
    "\n",
    "from tools.docs.doc_toolkit import DocToolKit\n",
    "from tools.docs.doc_api import DocApiWrapper\n",
    "\n",
    "from tools.email.email_toolkit import EmailToolKit\n",
    "from tools.email.email_api import EmailApiWrapper\n",
    "\n",
    "from tools.slack.slack_toolkit import SlackToolKit\n",
    "from tools.slack.slack_tool import SlackApiWrapper\n",
    "\n",
    "from dotenv import load_dotenv\n",
    "import os\n",
    "\n",
    "load_dotenv()\n",
    "\n",
    "os.environ[\"OPENAI_API_KEY\"] = os.getenv('OPENAI_API_KEY')\n",
    "os.environ[\"SLACK_BOT_TOKEN\"] = os.getenv('SLACK_BOT_TOKEN')\n",
    "\n",
    "llm = OpenAI(temperature=.7)\n",
    "\n",
    "docs_api = DocApiWrapper()\n",
    "docs_toolkit = DocToolKit.from_api_wrapper(docs_api)\n",
    "docs_tools = docs_toolkit.get_tools()\n",
    "\n",
    "email_api = EmailApiWrapper()\n",
    "email_toolkit = EmailToolKit.from_api_wrapper(email_api)\n",
    "email_tools = email_toolkit.get_tools()\n",
    "\n",
    "slack_api = SlackApiWrapper()\n",
    "slack_toolkit = SlackToolKit.from_slack_api_wrapper(slack_api)\n",
    "slack_tools = slack_toolkit.get_tools()\n",
    "\n",
    "\n",
    "tools = []\n",
    "[tools.append(tool) for tool in docs_tools]\n",
    "[tools.append(tool) for tool in email_tools]\n",
    "[tools.append(tool) for tool in slack_tools]\n",
    "\n",
    "agent = initialize_agent(\n",
    "    tools,\n",
    "    llm,\n",
    "    agent=AgentType.ZERO_SHOT_REACT_DESCRIPTION,\n",
    "    verbose=True)"
   ]
  },
  {
   "cell_type": "code",
   "execution_count": null,
   "metadata": {},
   "outputs": [],
   "source": [
    "agent.run(\"Search documents for how oil is impacting the enconomy\")"
   ]
  },
  {
   "cell_type": "code",
   "execution_count": null,
   "metadata": {},
   "outputs": [],
   "source": [
    "agent.run(\"Read the email from derekarends23@gmail.com and send it to derekarendsai@gmail.com\")"
   ]
  },
  {
   "cell_type": "code",
   "execution_count": 2,
   "metadata": {},
   "outputs": [
    {
     "name": "stdout",
     "output_type": "stream",
     "text": [
      "\n",
      "\n",
      "\u001b[1m> Entering new AgentExecutor chain...\u001b[0m\n",
      "\u001b[32;1m\u001b[1;3m I need to find a channel and then post the message.\n",
      "Action: Read the channels\n",
      "Action Input: None\u001b[0m\n",
      "Observation: \u001b[36;1m\u001b[1;3m[{\"name\": \"notifications\", \"id\": \"C05521Y1M2T\"}, {\"name\": \"random\", \"id\": \"C0559H8DS5U\"}, {\"name\": \"bots\", \"id\": \"C055D95TK7X\"}, {\"name\": \"general\", \"id\": \"C055JKZ2V1A\"}]\u001b[0m\n",
      "Thought:\u001b[32;1m\u001b[1;3m The best channel for this message is the \"bots\" channel.\n",
      "Action: Write a chat message to the channel\n",
      "Action Input: {\"channel\": \"C055D95TK7X\", \"message\": \"I am a bot from lanchain!\"}\u001b[0m\n",
      "Observation: \u001b[33;1m\u001b[1;3mSuccessfully wrote chat message\u001b[0m\n",
      "Thought:\u001b[32;1m\u001b[1;3m I have posted the message successfully.\n",
      "Final Answer: The message has been successfully posted to the \"bots\" channel.\u001b[0m\n",
      "\n",
      "\u001b[1m> Finished chain.\u001b[0m\n"
     ]
    },
    {
     "data": {
      "text/plain": [
       "'The message has been successfully posted to the \"bots\" channel.'"
      ]
     },
     "execution_count": 2,
     "metadata": {},
     "output_type": "execute_result"
    }
   ],
   "source": [
    "agent.run(\"Determine the best channel to post this message to and then post it. I am bot from lanchain!\")"
   ]
  }
 ],
 "metadata": {
  "kernelspec": {
   "display_name": ".venv",
   "language": "python",
   "name": "python3"
  },
  "language_info": {
   "codemirror_mode": {
    "name": "ipython",
    "version": 3
   },
   "file_extension": ".py",
   "mimetype": "text/x-python",
   "name": "python",
   "nbconvert_exporter": "python",
   "pygments_lexer": "ipython3",
   "version": "3.11.4"
  },
  "orig_nbformat": 4
 },
 "nbformat": 4,
 "nbformat_minor": 2
}
