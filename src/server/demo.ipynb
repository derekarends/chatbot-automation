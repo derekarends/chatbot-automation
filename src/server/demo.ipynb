{
 "cells": [
  {
   "cell_type": "code",
   "execution_count": null,
   "metadata": {},
   "outputs": [],
   "source": [
    "from langchain.agents import AgentType\n",
    "from langchain.agents import initialize_agent\n",
    "from langchain.llms import OpenAI\n",
    "\n",
    "from tools.docs.doc_toolkit import DocToolKit\n",
    "from tools.docs.doc_api import DocApiWrapper\n",
    "\n",
    "from tools.email.email_toolkit import EmailToolKit\n",
    "from tools.email.email_api import EmailApiWrapper\n",
    "\n",
    "from tools.slack.slack_toolkit import SlackToolKit\n",
    "from tools.slack.slack_tool import SlackApiWrapper\n",
    "\n",
    "from dotenv import load_dotenv\n",
    "import os\n",
    "\n",
    "load_dotenv()\n",
    "\n",
    "os.environ[\"OPENAI_API_KEY\"] = os.getenv('OPENAI_API_KEY')\n",
    "os.environ[\"SLACK_BOT_TOKEN\"] = os.getenv('SLACK_BOT_TOKEN')\n",
    "\n",
    "llm = OpenAI(temperature=.7)\n",
    "\n",
    "docs_api = DocApiWrapper()\n",
    "docs_toolkit = DocToolKit.from_api_wrapper(docs_api)\n",
    "docs_tools = docs_toolkit.get_tools()\n",
    "\n",
    "email_api = EmailApiWrapper()\n",
    "email_toolkit = EmailToolKit.from_api_wrapper(email_api)\n",
    "email_tools = email_toolkit.get_tools()\n",
    "\n",
    "slack_api = SlackApiWrapper()\n",
    "slack_toolkit = SlackToolKit.from_slack_api_wrapper(slack_api)\n",
    "slack_tools = slack_toolkit.get_tools()\n",
    "\n",
    "\n",
    "tools = []\n",
    "[tools.append(tool) for tool in docs_tools]\n",
    "[tools.append(tool) for tool in email_tools]\n",
    "[tools.append(tool) for tool in slack_tools]\n",
    "\n",
    "agent = initialize_agent(\n",
    "    tools,\n",
    "    llm,\n",
    "    agent=AgentType.ZERO_SHOT_REACT_DESCRIPTION,\n",
    "    verbose=True)"
   ]
  },
  {
   "cell_type": "code",
   "execution_count": null,
   "metadata": {},
   "outputs": [],
   "source": [
    "agent.run(\"Search documents for how oil is impacting the enconomy\")"
   ]
  },
  {
   "cell_type": "code",
   "execution_count": null,
   "metadata": {},
   "outputs": [],
   "source": [
    "agent.run(\"Read the email from derekarends23@gmail.com and send it to derekarendsai@gmail.com\")"
   ]
  },
  {
   "cell_type": "code",
   "execution_count": null,
   "metadata": {},
   "outputs": [],
   "source": [
    "agent.run(\"Search for an email with subject of business\")"
   ]
  },
  {
   "cell_type": "code",
   "execution_count": null,
   "metadata": {},
   "outputs": [],
   "source": [
    "agent.run(\"Determine the best channel to post this message to and then post it. I am bot from lanchain!\")"
   ]
  }
 ],
 "metadata": {
  "kernelspec": {
   "display_name": ".venv",
   "language": "python",
   "name": "python3"
  },
  "language_info": {
   "codemirror_mode": {
    "name": "ipython",
    "version": 3
   },
   "file_extension": ".py",
   "mimetype": "text/x-python",
   "name": "python",
   "nbconvert_exporter": "python",
   "pygments_lexer": "ipython3",
   "version": "3.11.4"
  },
  "orig_nbformat": 4
 },
 "nbformat": 4,
 "nbformat_minor": 2
}
