{
 "cells": [
  {
   "cell_type": "code",
   "execution_count": null,
   "metadata": {},
   "outputs": [],
   "source": [
    "import openai\n",
    "import os\n",
    "\n",
    "from scipy import spatial\n",
    "from dotenv import load_dotenv\n",
    "load_dotenv()\n",
    "\n",
    "openai.api_key = os.getenv('OPENAI_API_KEY')\n",
    "\n",
    "def get_embeddings(prompt):\n",
    "    try:\n",
    "        response = openai.Embedding.create(\n",
    "            model=\"text-embedding-ada-002\",\n",
    "            input=prompt\n",
    "        )\n",
    "        return response['data'][0]['embedding']\n",
    "    except Exception as e:\n",
    "        print(f\"An error occurred: {e}\")\n",
    "        return None\n",
    "    \n",
    "\n",
    "def cosine_similarity(x, y):\n",
    "    return 1 - spatial.distance.cosine(x, y)"
   ]
  },
  {
   "cell_type": "code",
   "execution_count": null,
   "metadata": {},
   "outputs": [],
   "source": [
    "p1 = \"The cat ran fast\"\n",
    "p1e = get_embeddings(p1)\n",
    "\n",
    "p2 = \"The fish swam fast\"\n",
    "p2e = get_embeddings(p2)\n",
    "\n",
    "p3 = \"I ride my bike\"\n",
    "p3e = get_embeddings(p3)\n",
    "\n",
    "p4 = \"What do I do with bikes?\"\n",
    "p4e = get_embeddings(p4)"
   ]
  },
  {
   "cell_type": "code",
   "execution_count": null,
   "metadata": {},
   "outputs": [],
   "source": [
    "print(p1)\n",
    "print(p1e)"
   ]
  },
  {
   "cell_type": "code",
   "execution_count": null,
   "metadata": {},
   "outputs": [],
   "source": [
    "cos_p1_p1 = cosine_similarity(p1e, p1e)\n",
    "cos_p1_p2 = cosine_similarity(p1e, p2e)\n",
    "cos_p1_p3 = cosine_similarity(p1e, p3e)\n",
    "cos_p2_p3 = cosine_similarity(p2e, p3e)\n",
    "cos_p1_p4 = cosine_similarity(p1e, p4e)\n",
    "cos_p3_p4 = cosine_similarity(p3e, p4e)\n",
    "\n",
    "print(f\"Similarity between [{p1}] and [{p1}]: {cos_p1_p1}\")\n",
    "print(f\"Similarity between [{p1}] and [{p2}]: {cos_p1_p2}\")\n",
    "print(f\"Similarity between [{p1}] and [{p3}]: {cos_p1_p3}\")\n",
    "print(f\"Similarity between [{p2}] and [{p3}]: {cos_p2_p3}\")\n",
    "print(f\"Similarity between [{p1}] and [{p4}]: {cos_p1_p4}\")\n",
    "print(f\"Similarity between [{p3}] and [{p4}]: {cos_p3_p4}\")"
   ]
  }
 ],
 "metadata": {
  "kernelspec": {
   "display_name": ".venv",
   "language": "python",
   "name": "python3"
  },
  "language_info": {
   "codemirror_mode": {
    "name": "ipython",
    "version": 3
   },
   "file_extension": ".py",
   "mimetype": "text/x-python",
   "name": "python",
   "nbconvert_exporter": "python",
   "pygments_lexer": "ipython3",
   "version": "3.10.7"
  },
  "orig_nbformat": 4
 },
 "nbformat": 4,
 "nbformat_minor": 2
}
